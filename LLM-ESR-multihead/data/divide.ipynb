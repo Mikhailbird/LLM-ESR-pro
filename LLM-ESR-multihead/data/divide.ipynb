{
 "cells": [
  {
   "cell_type": "markdown",
   "metadata": {},
   "source": [
    "##### identify long-tail and short-tail users\n",
    "###### 0 indicates short tail while 1 indicates long tail"
   ]
  },
  {
   "cell_type": "code",
   "execution_count": 2,
   "metadata": {},
   "outputs": [
    {
     "name": "stdout",
     "output_type": "stream",
     "text": [
      "Long tail users: 40498, Short tail users: 11706\n"
     ]
    }
   ],
   "source": [
    "import pandas as pd\n",
    "import json\n",
    "\n",
    "# 参数\n",
    "ts_user = 9\n",
    "inter_file = \"beauty/handled/inter.txt\"\n",
    "output_json = \"user_tail_type.json\"\n",
    "\n",
    "# 读取交互文件\n",
    "df = pd.read_csv(inter_file, sep=\" \", header=None, names=[\"user\", \"item\"])\n",
    "\n",
    "# 按用户统计交互数\n",
    "user_counts = df.groupby(\"user\").size()\n",
    "\n",
    "# 分类\n",
    "user_tail_type = {int(uid): 1 if count < ts_user else 0 for uid, count in user_counts.items()}\n",
    "\n",
    "# 保存为 JSON\n",
    "with open(output_json, \"w\") as f:\n",
    "    json.dump(user_tail_type, f)\n",
    "\n",
    "# Sanity check\n",
    "n_long = sum(v == 1 for v in user_tail_type.values())\n",
    "n_short = sum(v == 0 for v in user_tail_type.values())\n",
    "print(f\"Long tail users: {n_long}, Short tail users: {n_short}\")"
   ]
  },
  {
   "cell_type": "markdown",
   "metadata": {},
   "source": [
    "##### Covert the index to 0-based"
   ]
  },
  {
   "cell_type": "code",
   "execution_count": null,
   "metadata": {},
   "outputs": [],
   "source": [
    "import json\n",
    "with open(\"beauty/handled/user_tail_type.json\", \"r\") as f:\n",
    "    user_tail_type = json.load(f)\n",
    "\n",
    "\n",
    "\n"
   ]
  }
 ],
 "metadata": {
  "kernelspec": {
   "display_name": "deeplearning",
   "language": "python",
   "name": "python3"
  },
  "language_info": {
   "codemirror_mode": {
    "name": "ipython",
    "version": 3
   },
   "file_extension": ".py",
   "mimetype": "text/x-python",
   "name": "python",
   "nbconvert_exporter": "python",
   "pygments_lexer": "ipython3",
   "version": "3.12.7"
  }
 },
 "nbformat": 4,
 "nbformat_minor": 2
}
