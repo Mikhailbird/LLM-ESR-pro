{
 "cells": [
  {
   "cell_type": "markdown",
   "id": "a66c0052",
   "metadata": {},
   "source": [
    "##### check some embeddings"
   ]
  },
  {
   "cell_type": "markdown",
   "id": "5c479f7a",
   "metadata": {},
   "source": [
    "##### Beauty"
   ]
  },
  {
   "cell_type": "code",
   "execution_count": 3,
   "id": "68300510",
   "metadata": {},
   "outputs": [
    {
     "name": "stdout",
     "output_type": "stream",
     "text": [
      "(57289, 1536)\n"
     ]
    }
   ],
   "source": [
    "import pickle\n",
    "with open('check_data/beauty/itm_emb_np.pkl', 'rb') as f:\n",
    "    check_beauty_item_ebd = pickle.load(f)\n",
    "print(check_beauty_item_ebd.shape)"
   ]
  },
  {
   "cell_type": "code",
   "execution_count": 14,
   "id": "4d623d43",
   "metadata": {},
   "outputs": [
    {
     "name": "stdout",
     "output_type": "stream",
     "text": [
      "dict_keys(['user2id', 'item2id', 'id2user', 'id2item', 'attribute2id', 'id2attribute', 'attributeid2num'])\n",
      "57289\n",
      "52204\n"
     ]
    }
   ],
   "source": [
    "import json\n",
    "import os\n",
    "data_dir = \"data/beauty/handled\"\n",
    "id_map_beauty = json.load(open(os.path.join(data_dir, \"id_map.json\")))\n",
    "item2attr_beauty = json.load(open(os.path.join(data_dir, \"item2attributes.json\")))\n",
    "print(id_map_beauty.keys())\n",
    "print(len(id_map_beauty[\"item2id\"]))\n",
    "print(len(id_map_beauty[\"user2id\"]))"
   ]
  },
  {
   "cell_type": "markdown",
   "id": "8c180de4",
   "metadata": {},
   "source": [
    "###### unique users in beauty"
   ]
  },
  {
   "cell_type": "code",
   "execution_count": 15,
   "id": "bd122a9d",
   "metadata": {},
   "outputs": [
    {
     "name": "stdout",
     "output_type": "stream",
     "text": [
      "Unique users: 52204\n",
      "Unique items: 57289\n"
     ]
    }
   ],
   "source": [
    "unique_users = set()\n",
    "unique_items = set()\n",
    "\n",
    "with open(\"data/beauty/handled/inter.txt\", \"r\") as f:\n",
    "    for line in f:\n",
    "        user, item = line.strip().split()\n",
    "        unique_users.add(user)\n",
    "        unique_items.add(item)\n",
    "\n",
    "print(f\"Unique users: {len(unique_users)}\")\n",
    "print(f\"Unique items: {len(unique_items)}\")"
   ]
  },
  {
   "cell_type": "code",
   "execution_count": 16,
   "id": "7ebaab81",
   "metadata": {},
   "outputs": [
    {
     "name": "stdout",
     "output_type": "stream",
     "text": [
      "Unique users: 52204\n",
      "Unique items: 57289\n"
     ]
    }
   ],
   "source": [
    "unique_users = set()\n",
    "unique_items = set()\n",
    "\n",
    "with open(\"data/beauty/handled/inter_check.txt\", \"r\") as f:\n",
    "    for line in f:\n",
    "        user, item = line.strip().split()\n",
    "        unique_users.add(user)\n",
    "        unique_items.add(item)\n",
    "\n",
    "print(f\"Unique users: {len(unique_users)}\")\n",
    "print(f\"Unique items: {len(unique_items)}\")"
   ]
  },
  {
   "cell_type": "code",
   "execution_count": 2,
   "id": "55f16dcd",
   "metadata": {},
   "outputs": [
    {
     "data": {
      "text/plain": [
       "(57289, 64)"
      ]
     },
     "execution_count": 2,
     "metadata": {},
     "output_type": "execute_result"
    }
   ],
   "source": [
    "import pickle\n",
    "with open(\"data/beauty/handled/gnn_item_emb_best.pkl\", \"rb\") as f:\n",
    "    gnn_emb = pickle.load(f)\n",
    "gnn_emb.shape\n"
   ]
  }
 ],
 "metadata": {
  "kernelspec": {
   "display_name": "deeplearning",
   "language": "python",
   "name": "python3"
  },
  "language_info": {
   "codemirror_mode": {
    "name": "ipython",
    "version": 3
   },
   "file_extension": ".py",
   "mimetype": "text/x-python",
   "name": "python",
   "nbconvert_exporter": "python",
   "pygments_lexer": "ipython3",
   "version": "3.12.7"
  }
 },
 "nbformat": 4,
 "nbformat_minor": 5
}
